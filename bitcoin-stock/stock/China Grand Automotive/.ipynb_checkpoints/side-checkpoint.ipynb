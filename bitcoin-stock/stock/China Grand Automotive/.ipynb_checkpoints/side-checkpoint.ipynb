{
 "cells": [
  {
   "cell_type": "code",
   "execution_count": 1,
   "metadata": {},
   "outputs": [],
   "source": [
    "from fetch_data import fetch_stock\n",
    "\n",
    "import pandas as pd\n",
    "import numpy as np\n",
    "import matplotlib.pyplot as plt\n",
    "import seaborn as sns\n",
    "%matplotlib inline\n",
    "plt.rcParams['figure.figsize'] = (20,10)"
   ]
  },
  {
   "cell_type": "code",
   "execution_count": 2,
   "metadata": {},
   "outputs": [
    {
     "name": "stdout",
     "output_type": "stream",
     "text": [
      "stock data fetching completed\n",
      "reading data into dataframe\n"
     ]
    }
   ],
   "source": [
    "symbol = '600297.SS'\n",
    "df = fetch_stock(symbol)"
   ]
  },
  {
   "cell_type": "code",
   "execution_count": 3,
   "metadata": {},
   "outputs": [
    {
     "name": "stdout",
     "output_type": "stream",
     "text": [
      "<class 'pandas.core.frame.DataFrame'>\n",
      "Int64Index: 4588 entries, 4587 to 0\n",
      "Data columns (total 6 columns):\n",
      "timestamp    4588 non-null datetime64[ns]\n",
      "open         4588 non-null float64\n",
      "high         4588 non-null float64\n",
      "low          4588 non-null float64\n",
      "close        4588 non-null float64\n",
      "volume       4588 non-null int64\n",
      "dtypes: datetime64[ns](1), float64(4), int64(1)\n",
      "memory usage: 250.9 KB\n"
     ]
    }
   ],
   "source": [
    "df.info()"
   ]
  },
  {
   "cell_type": "code",
   "execution_count": 4,
   "metadata": {},
   "outputs": [
    {
     "data": {
      "text/html": [
       "<div>\n",
       "<style scoped>\n",
       "    .dataframe tbody tr th:only-of-type {\n",
       "        vertical-align: middle;\n",
       "    }\n",
       "\n",
       "    .dataframe tbody tr th {\n",
       "        vertical-align: top;\n",
       "    }\n",
       "\n",
       "    .dataframe thead th {\n",
       "        text-align: right;\n",
       "    }\n",
       "</style>\n",
       "<table border=\"1\" class=\"dataframe\">\n",
       "  <thead>\n",
       "    <tr style=\"text-align: right;\">\n",
       "      <th></th>\n",
       "      <th>timestamp</th>\n",
       "      <th>open</th>\n",
       "      <th>high</th>\n",
       "      <th>low</th>\n",
       "      <th>close</th>\n",
       "      <th>volume</th>\n",
       "    </tr>\n",
       "  </thead>\n",
       "  <tbody>\n",
       "    <tr>\n",
       "      <th>4</th>\n",
       "      <td>2019-05-14</td>\n",
       "      <td>4.42</td>\n",
       "      <td>4.56</td>\n",
       "      <td>4.39</td>\n",
       "      <td>4.52</td>\n",
       "      <td>15005451</td>\n",
       "    </tr>\n",
       "    <tr>\n",
       "      <th>3</th>\n",
       "      <td>2019-05-15</td>\n",
       "      <td>4.58</td>\n",
       "      <td>4.60</td>\n",
       "      <td>4.48</td>\n",
       "      <td>4.56</td>\n",
       "      <td>19581590</td>\n",
       "    </tr>\n",
       "    <tr>\n",
       "      <th>2</th>\n",
       "      <td>2019-05-16</td>\n",
       "      <td>4.56</td>\n",
       "      <td>4.61</td>\n",
       "      <td>4.53</td>\n",
       "      <td>4.56</td>\n",
       "      <td>13591453</td>\n",
       "    </tr>\n",
       "    <tr>\n",
       "      <th>1</th>\n",
       "      <td>2019-05-17</td>\n",
       "      <td>4.66</td>\n",
       "      <td>4.74</td>\n",
       "      <td>4.40</td>\n",
       "      <td>4.43</td>\n",
       "      <td>21757671</td>\n",
       "    </tr>\n",
       "    <tr>\n",
       "      <th>0</th>\n",
       "      <td>2019-05-20</td>\n",
       "      <td>4.31</td>\n",
       "      <td>4.36</td>\n",
       "      <td>4.14</td>\n",
       "      <td>4.27</td>\n",
       "      <td>17862636</td>\n",
       "    </tr>\n",
       "  </tbody>\n",
       "</table>\n",
       "</div>"
      ],
      "text/plain": [
       "   timestamp  open  high   low  close    volume\n",
       "4 2019-05-14  4.42  4.56  4.39   4.52  15005451\n",
       "3 2019-05-15  4.58  4.60  4.48   4.56  19581590\n",
       "2 2019-05-16  4.56  4.61  4.53   4.56  13591453\n",
       "1 2019-05-17  4.66  4.74  4.40   4.43  21757671\n",
       "0 2019-05-20  4.31  4.36  4.14   4.27  17862636"
      ]
     },
     "execution_count": 4,
     "metadata": {},
     "output_type": "execute_result"
    }
   ],
   "source": [
    "df.tail()"
   ]
  },
  {
   "cell_type": "code",
   "execution_count": 83,
   "metadata": {},
   "outputs": [],
   "source": [
    "class stock_data():\n",
    "    \n",
    "    def __init__(self, df):\n",
    "        self.data = df.set_index(['timestamp']).query('volume!=0').copy()\n",
    "        self.proc_data = self.data.copy()\n",
    "        \n",
    "    def next_n_return(self, n):\n",
    "        for col in self.data.columns:\n",
    "            self.proc_data[f'{col}_next_{n}_day_return'] = \\\n",
    "            (self.proc_data[col] - self.proc_data[col].shift(n))/self.proc_data[col].shift(n)\n",
    "            \n",
    "    def rolling_average(self, windows):\n",
    "        for col in self.data.columns:\n",
    "            self.proc_data[f'{col}_{windows}_rolling_mean'] = self.data[col].rolling(windows).mean()\n",
    "    \n",
    "    def rolling_std(self, windows):\n",
    "        for col in self.data.columns:\n",
    "            self.proc_data[f'{col}_{windows}_rolling_std'] = self.data[col].rolling(windows).std()\n",
    "                \n",
    "    def preprocess(self, ns, windows):\n",
    "        for n in ns:\n",
    "            self.next_n_return(n)\n",
    "        for w in windows:\n",
    "            self.rolling_average(w)\n",
    "            self.rolling_std(w)\n",
    "            \n",
    "    def get_train_test_data(self, ts=0.1):\n",
    "        trn_len = int(len(self.data_x) * ts)\n",
    "        self.data_xtrain, self.data_xtest = self.proc_data.iloc[:trn_len], self.proc_data.iloc[trn_len:]\n",
    "        self.data_ytrain, self.data_ytest = self.proc_data.iloc[:trn_len], self.proc_data.iloc[trn_len:]\n",
    "        \n",
    "    \n",
    "        "
   ]
  },
  {
   "cell_type": "code",
   "execution_count": 84,
   "metadata": {},
   "outputs": [],
   "source": [
    "stock = stock_data(df)"
   ]
  },
  {
   "cell_type": "code",
   "execution_count": 85,
   "metadata": {},
   "outputs": [],
   "source": [
    "stock.preprocess([1], [10])"
   ]
  },
  {
   "cell_type": "code",
   "execution_count": 90,
   "metadata": {},
   "outputs": [
    {
     "data": {
      "text/plain": [
       "<matplotlib.axes._subplots.AxesSubplot at 0x1827045e3c8>"
      ]
     },
     "execution_count": 90,
     "metadata": {},
     "output_type": "execute_result"
    },
    {
     "data": {
      "image/png": "[encoded data removed]",
      "text/plain": [
       "<Figure size 432x288 with 1 Axes>"
      ]
     },
     "metadata": {
      "needs_background": "light"
     },
     "output_type": "display_data"
    }
   ],
   "source": [
    "stock.proc_data.isnull().sum().plot('bar')"
   ]
  },
  {
   "cell_type": "code",
   "execution_count": null,
   "metadata": {},
   "outputs": [],
   "source": []
  }
 ],
 "metadata": {
  "kernelspec": {
   "display_name": "py36 keras",
   "language": "python",
   "name": "py36"
  },
  "language_info": {
   "codemirror_mode": {
    "name": "ipython",
    "version": 3
   },
   "file_extension": ".py",
   "mimetype": "text/x-python",
   "name": "python",
   "nbconvert_exporter": "python",
   "pygments_lexer": "ipython3",
   "version": "3.6.8"
  }
 },
 "nbformat": 4,
 "nbformat_minor": 2
}
