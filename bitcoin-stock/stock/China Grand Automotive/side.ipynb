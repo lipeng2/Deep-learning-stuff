{
 "cells": [
  {
   "cell_type": "code",
   "execution_count": 1,
   "metadata": {},
   "outputs": [],
   "source": [
    "from fetch_data import fetch_stock\n",
    "\n",
    "import pandas as pd\n",
    "import numpy as np\n",
    "import matplotlib.pyplot as plt\n",
    "import seaborn as sns\n",
    "from sklearn.metrics import mean_squared_error, mean_absolute_error\n",
    "\n",
    "\n",
    "%matplotlib inline\n",
    "plt.rcParams['figure.figsize'] = (20,10)"
   ]
  },
  {
   "cell_type": "code",
   "execution_count": 2,
   "metadata": {},
   "outputs": [
    {
     "name": "stdout",
     "output_type": "stream",
     "text": [
      "stock data fetching completed\n",
      "reading data into dataframe\n"
     ]
    }
   ],
   "source": [
    "symbol = '600297.SS'\n",
    "df = fetch_stock(symbol)"
   ]
  },
  {
   "cell_type": "code",
   "execution_count": 3,
   "metadata": {},
   "outputs": [
    {
     "name": "stdout",
     "output_type": "stream",
     "text": [
      "<class 'pandas.core.frame.DataFrame'>\n",
      "Int64Index: 4590 entries, 4589 to 0\n",
      "Data columns (total 6 columns):\n",
      "timestamp    4590 non-null datetime64[ns]\n",
      "open         4590 non-null float64\n",
      "high         4590 non-null float64\n",
      "low          4590 non-null float64\n",
      "close        4590 non-null float64\n",
      "volume       4590 non-null int64\n",
      "dtypes: datetime64[ns](1), float64(4), int64(1)\n",
      "memory usage: 251.0 KB\n"
     ]
    }
   ],
   "source": [
    "df.info()"
   ]
  },
  {
   "cell_type": "code",
   "execution_count": 4,
   "metadata": {
    "scrolled": true
   },
   "outputs": [
    {
     "data": {
      "text/html": [
       "<div>\n",
       "<style scoped>\n",
       "    .dataframe tbody tr th:only-of-type {\n",
       "        vertical-align: middle;\n",
       "    }\n",
       "\n",
       "    .dataframe tbody tr th {\n",
       "        vertical-align: top;\n",
       "    }\n",
       "\n",
       "    .dataframe thead th {\n",
       "        text-align: right;\n",
       "    }\n",
       "</style>\n",
       "<table border=\"1\" class=\"dataframe\">\n",
       "  <thead>\n",
       "    <tr style=\"text-align: right;\">\n",
       "      <th></th>\n",
       "      <th>timestamp</th>\n",
       "      <th>open</th>\n",
       "      <th>high</th>\n",
       "      <th>low</th>\n",
       "      <th>close</th>\n",
       "      <th>volume</th>\n",
       "    </tr>\n",
       "  </thead>\n",
       "  <tbody>\n",
       "    <tr>\n",
       "      <th>4</th>\n",
       "      <td>2019-05-16</td>\n",
       "      <td>4.56</td>\n",
       "      <td>4.61</td>\n",
       "      <td>4.53</td>\n",
       "      <td>4.56</td>\n",
       "      <td>13591453</td>\n",
       "    </tr>\n",
       "    <tr>\n",
       "      <th>3</th>\n",
       "      <td>2019-05-17</td>\n",
       "      <td>4.66</td>\n",
       "      <td>4.74</td>\n",
       "      <td>4.40</td>\n",
       "      <td>4.43</td>\n",
       "      <td>21757671</td>\n",
       "    </tr>\n",
       "    <tr>\n",
       "      <th>2</th>\n",
       "      <td>2019-05-20</td>\n",
       "      <td>4.31</td>\n",
       "      <td>4.36</td>\n",
       "      <td>4.14</td>\n",
       "      <td>4.27</td>\n",
       "      <td>17862636</td>\n",
       "    </tr>\n",
       "    <tr>\n",
       "      <th>1</th>\n",
       "      <td>2019-05-21</td>\n",
       "      <td>4.28</td>\n",
       "      <td>4.46</td>\n",
       "      <td>4.25</td>\n",
       "      <td>4.42</td>\n",
       "      <td>18984598</td>\n",
       "    </tr>\n",
       "    <tr>\n",
       "      <th>0</th>\n",
       "      <td>2019-05-22</td>\n",
       "      <td>4.42</td>\n",
       "      <td>4.54</td>\n",
       "      <td>4.39</td>\n",
       "      <td>4.53</td>\n",
       "      <td>12848630</td>\n",
       "    </tr>\n",
       "  </tbody>\n",
       "</table>\n",
       "</div>"
      ],
      "text/plain": [
       "   timestamp  open  high   low  close    volume\n",
       "4 2019-05-16  4.56  4.61  4.53   4.56  13591453\n",
       "3 2019-05-17  4.66  4.74  4.40   4.43  21757671\n",
       "2 2019-05-20  4.31  4.36  4.14   4.27  17862636\n",
       "1 2019-05-21  4.28  4.46  4.25   4.42  18984598\n",
       "0 2019-05-22  4.42  4.54  4.39   4.53  12848630"
      ]
     },
     "execution_count": 4,
     "metadata": {},
     "output_type": "execute_result"
    }
   ],
   "source": [
    "df.tail()"
   ]
  },
  {
   "cell_type": "code",
   "execution_count": 60,
   "metadata": {},
   "outputs": [],
   "source": [
    "class stock_data():\n",
    "\n",
    "    def __init__(self, df):\n",
    "        self.data = df.set_index(['timestamp']).query('volume!=0').copy()\n",
    "        self.proc_data = self.data.copy()\n",
    "\n",
    "    def next_n_return(self, n):\n",
    "        for col in self.data.columns:\n",
    "            self.proc_data[f'{col}_next_{n}_day_return'] = \\\n",
    "            (self.proc_data[col] - self.proc_data[col].shift(n))/self.proc_data[col].shift(n)\n",
    "            \n",
    "    def create_trend_label(self, period):\n",
    "        self.proc_data[f'next_{period}_return_label'] = (self.proc_data.close - \\\n",
    "            self.proc_data.close.shift(period)).apply(lambda x: 1 if x>0 else -1)\n",
    "        self.tar = f'next_{period}_return_label'\n",
    "\n",
    "    def rolling_average(self, windows):\n",
    "        for col in self.data.columns:\n",
    "            self.proc_data[f'{col}_{windows}_rolling_mean'] = self.data[col].rolling(windows).mean()\n",
    "\n",
    "    def rolling_std(self, windows):\n",
    "        for col in self.data.columns:\n",
    "            self.proc_data[f'{col}_{windows}_rolling_std'] = self.data[col].rolling(windows).std()\n",
    "\n",
    "    def preprocess(self, ns=[None], windows=[None]):\n",
    "        try:\n",
    "            for n in ns:\n",
    "                self.next_n_return(n)\n",
    "        except:\n",
    "            print('no ns')\n",
    "            \n",
    "        try:\n",
    "            for w in windows:\n",
    "                self.rolling_average(w)\n",
    "                self.rolling_std(w)\n",
    "        except:\n",
    "            print('no windows')\n",
    "            \n",
    "        self.skip = max(max(ns), max(windows))\n",
    "            \n",
    "    def create_train_test(self, trn_len=None, ts=0.1, classifier=False):\n",
    "        trn_len = int(len(self.data) * ts) if not trn_len else trn_len\n",
    "        tar = self.tar if classifier else 'close'\n",
    "        self.data_xtrain, self.data_xtest = self.proc_data.iloc[self.skip:trn_len-1], self.proc_data.iloc[trn_len-1:-1]\n",
    "        self.data_ytrain, self.data_ytest = self.proc_data[tar][self.skip+1:trn_len], self.proc_data[tar][trn_len:]\n",
    "        "
   ]
  },
  {
   "cell_type": "code",
   "execution_count": 61,
   "metadata": {},
   "outputs": [],
   "source": [
    "stock = stock_data(df)"
   ]
  },
  {
   "cell_type": "code",
   "execution_count": 67,
   "metadata": {},
   "outputs": [
    {
     "data": {
      "text/plain": [
       "__main__.stock_data"
      ]
     },
     "execution_count": 67,
     "metadata": {},
     "output_type": "execute_result"
    }
   ],
   "source": [
    "type(stock)"
   ]
  },
  {
   "cell_type": "code",
   "execution_count": 62,
   "metadata": {},
   "outputs": [],
   "source": [
    "stock.preprocess(ns=[1, 5], windows=[1, 5, 10])"
   ]
  },
  {
   "cell_type": "code",
   "execution_count": 63,
   "metadata": {},
   "outputs": [
    {
     "data": {
      "text/html": [
       "<div>\n",
       "<style scoped>\n",
       "    .dataframe tbody tr th:only-of-type {\n",
       "        vertical-align: middle;\n",
       "    }\n",
       "\n",
       "    .dataframe tbody tr th {\n",
       "        vertical-align: top;\n",
       "    }\n",
       "\n",
       "    .dataframe thead th {\n",
       "        text-align: right;\n",
       "    }\n",
       "</style>\n",
       "<table border=\"1\" class=\"dataframe\">\n",
       "  <thead>\n",
       "    <tr style=\"text-align: right;\">\n",
       "      <th></th>\n",
       "      <th>open</th>\n",
       "      <th>high</th>\n",
       "      <th>low</th>\n",
       "      <th>close</th>\n",
       "      <th>volume</th>\n",
       "      <th>open_next_1_day_return</th>\n",
       "      <th>high_next_1_day_return</th>\n",
       "      <th>low_next_1_day_return</th>\n",
       "      <th>close_next_1_day_return</th>\n",
       "      <th>volume_next_1_day_return</th>\n",
       "      <th>...</th>\n",
       "      <th>high_10_rolling_mean</th>\n",
       "      <th>low_10_rolling_mean</th>\n",
       "      <th>close_10_rolling_mean</th>\n",
       "      <th>volume_10_rolling_mean</th>\n",
       "      <th>open_10_rolling_std</th>\n",
       "      <th>high_10_rolling_std</th>\n",
       "      <th>low_10_rolling_std</th>\n",
       "      <th>close_10_rolling_std</th>\n",
       "      <th>volume_10_rolling_std</th>\n",
       "      <th>next_1_return_label</th>\n",
       "    </tr>\n",
       "    <tr>\n",
       "      <th>timestamp</th>\n",
       "      <th></th>\n",
       "      <th></th>\n",
       "      <th></th>\n",
       "      <th></th>\n",
       "      <th></th>\n",
       "      <th></th>\n",
       "      <th></th>\n",
       "      <th></th>\n",
       "      <th></th>\n",
       "      <th></th>\n",
       "      <th></th>\n",
       "      <th></th>\n",
       "      <th></th>\n",
       "      <th></th>\n",
       "      <th></th>\n",
       "      <th></th>\n",
       "      <th></th>\n",
       "      <th></th>\n",
       "      <th></th>\n",
       "      <th></th>\n",
       "      <th></th>\n",
       "    </tr>\n",
       "  </thead>\n",
       "  <tbody>\n",
       "    <tr>\n",
       "      <th>2000-11-16</th>\n",
       "      <td>5.1451</td>\n",
       "      <td>5.4926</td>\n",
       "      <td>4.9648</td>\n",
       "      <td>5.0211</td>\n",
       "      <td>172301855</td>\n",
       "      <td>NaN</td>\n",
       "      <td>NaN</td>\n",
       "      <td>NaN</td>\n",
       "      <td>NaN</td>\n",
       "      <td>NaN</td>\n",
       "      <td>...</td>\n",
       "      <td>NaN</td>\n",
       "      <td>NaN</td>\n",
       "      <td>NaN</td>\n",
       "      <td>NaN</td>\n",
       "      <td>NaN</td>\n",
       "      <td>NaN</td>\n",
       "      <td>NaN</td>\n",
       "      <td>NaN</td>\n",
       "      <td>NaN</td>\n",
       "      <td>-1</td>\n",
       "    </tr>\n",
       "    <tr>\n",
       "      <th>2000-11-17</th>\n",
       "      <td>4.9665</td>\n",
       "      <td>4.9764</td>\n",
       "      <td>4.6621</td>\n",
       "      <td>4.6720</td>\n",
       "      <td>36627024</td>\n",
       "      <td>-0.034713</td>\n",
       "      <td>-0.093981</td>\n",
       "      <td>-0.060969</td>\n",
       "      <td>-0.069527</td>\n",
       "      <td>-0.787425</td>\n",
       "      <td>...</td>\n",
       "      <td>NaN</td>\n",
       "      <td>NaN</td>\n",
       "      <td>NaN</td>\n",
       "      <td>NaN</td>\n",
       "      <td>NaN</td>\n",
       "      <td>NaN</td>\n",
       "      <td>NaN</td>\n",
       "      <td>NaN</td>\n",
       "      <td>NaN</td>\n",
       "      <td>-1</td>\n",
       "    </tr>\n",
       "    <tr>\n",
       "      <th>2000-11-20</th>\n",
       "      <td>4.6009</td>\n",
       "      <td>4.7613</td>\n",
       "      <td>4.5661</td>\n",
       "      <td>4.6654</td>\n",
       "      <td>13004598</td>\n",
       "      <td>-0.073613</td>\n",
       "      <td>-0.043224</td>\n",
       "      <td>-0.020592</td>\n",
       "      <td>-0.001413</td>\n",
       "      <td>-0.644945</td>\n",
       "      <td>...</td>\n",
       "      <td>NaN</td>\n",
       "      <td>NaN</td>\n",
       "      <td>NaN</td>\n",
       "      <td>NaN</td>\n",
       "      <td>NaN</td>\n",
       "      <td>NaN</td>\n",
       "      <td>NaN</td>\n",
       "      <td>NaN</td>\n",
       "      <td>NaN</td>\n",
       "      <td>-1</td>\n",
       "    </tr>\n",
       "    <tr>\n",
       "      <th>2000-11-21</th>\n",
       "      <td>4.6654</td>\n",
       "      <td>4.6968</td>\n",
       "      <td>4.5843</td>\n",
       "      <td>4.6141</td>\n",
       "      <td>9329042</td>\n",
       "      <td>0.014019</td>\n",
       "      <td>-0.013547</td>\n",
       "      <td>0.003986</td>\n",
       "      <td>-0.010996</td>\n",
       "      <td>-0.282635</td>\n",
       "      <td>...</td>\n",
       "      <td>NaN</td>\n",
       "      <td>NaN</td>\n",
       "      <td>NaN</td>\n",
       "      <td>NaN</td>\n",
       "      <td>NaN</td>\n",
       "      <td>NaN</td>\n",
       "      <td>NaN</td>\n",
       "      <td>NaN</td>\n",
       "      <td>NaN</td>\n",
       "      <td>-1</td>\n",
       "    </tr>\n",
       "    <tr>\n",
       "      <th>2000-11-22</th>\n",
       "      <td>4.5827</td>\n",
       "      <td>4.7150</td>\n",
       "      <td>4.5744</td>\n",
       "      <td>4.6306</td>\n",
       "      <td>6109951</td>\n",
       "      <td>-0.017726</td>\n",
       "      <td>0.003875</td>\n",
       "      <td>-0.002160</td>\n",
       "      <td>0.003576</td>\n",
       "      <td>-0.345061</td>\n",
       "      <td>...</td>\n",
       "      <td>NaN</td>\n",
       "      <td>NaN</td>\n",
       "      <td>NaN</td>\n",
       "      <td>NaN</td>\n",
       "      <td>NaN</td>\n",
       "      <td>NaN</td>\n",
       "      <td>NaN</td>\n",
       "      <td>NaN</td>\n",
       "      <td>NaN</td>\n",
       "      <td>1</td>\n",
       "    </tr>\n",
       "  </tbody>\n",
       "</table>\n",
       "<p>5 rows × 46 columns</p>\n",
       "</div>"
      ],
      "text/plain": [
       "              open    high     low   close     volume  open_next_1_day_return  \\\n",
       "timestamp                                                                       \n",
       "2000-11-16  5.1451  5.4926  4.9648  5.0211  172301855                     NaN   \n",
       "2000-11-17  4.9665  4.9764  4.6621  4.6720   36627024               -0.034713   \n",
       "2000-11-20  4.6009  4.7613  4.5661  4.6654   13004598               -0.073613   \n",
       "2000-11-21  4.6654  4.6968  4.5843  4.6141    9329042                0.014019   \n",
       "2000-11-22  4.5827  4.7150  4.5744  4.6306    6109951               -0.017726   \n",
       "\n",
       "            high_next_1_day_return  low_next_1_day_return  \\\n",
       "timestamp                                                   \n",
       "2000-11-16                     NaN                    NaN   \n",
       "2000-11-17               -0.093981              -0.060969   \n",
       "2000-11-20               -0.043224              -0.020592   \n",
       "2000-11-21               -0.013547               0.003986   \n",
       "2000-11-22                0.003875              -0.002160   \n",
       "\n",
       "            close_next_1_day_return  volume_next_1_day_return  ...  \\\n",
       "timestamp                                                      ...   \n",
       "2000-11-16                      NaN                       NaN  ...   \n",
       "2000-11-17                -0.069527                 -0.787425  ...   \n",
       "2000-11-20                -0.001413                 -0.644945  ...   \n",
       "2000-11-21                -0.010996                 -0.282635  ...   \n",
       "2000-11-22                 0.003576                 -0.345061  ...   \n",
       "\n",
       "            high_10_rolling_mean  low_10_rolling_mean  close_10_rolling_mean  \\\n",
       "timestamp                                                                      \n",
       "2000-11-16                   NaN                  NaN                    NaN   \n",
       "2000-11-17                   NaN                  NaN                    NaN   \n",
       "2000-11-20                   NaN                  NaN                    NaN   \n",
       "2000-11-21                   NaN                  NaN                    NaN   \n",
       "2000-11-22                   NaN                  NaN                    NaN   \n",
       "\n",
       "            volume_10_rolling_mean  open_10_rolling_std  high_10_rolling_std  \\\n",
       "timestamp                                                                      \n",
       "2000-11-16                     NaN                  NaN                  NaN   \n",
       "2000-11-17                     NaN                  NaN                  NaN   \n",
       "2000-11-20                     NaN                  NaN                  NaN   \n",
       "2000-11-21                     NaN                  NaN                  NaN   \n",
       "2000-11-22                     NaN                  NaN                  NaN   \n",
       "\n",
       "            low_10_rolling_std  close_10_rolling_std  volume_10_rolling_std  \\\n",
       "timestamp                                                                     \n",
       "2000-11-16                 NaN                   NaN                    NaN   \n",
       "2000-11-17                 NaN                   NaN                    NaN   \n",
       "2000-11-20                 NaN                   NaN                    NaN   \n",
       "2000-11-21                 NaN                   NaN                    NaN   \n",
       "2000-11-22                 NaN                   NaN                    NaN   \n",
       "\n",
       "            next_1_return_label  \n",
       "timestamp                        \n",
       "2000-11-16                   -1  \n",
       "2000-11-17                   -1  \n",
       "2000-11-20                   -1  \n",
       "2000-11-21                   -1  \n",
       "2000-11-22                    1  \n",
       "\n",
       "[5 rows x 46 columns]"
      ]
     },
     "execution_count": 63,
     "metadata": {},
     "output_type": "execute_result"
    }
   ],
   "source": [
    "stock.create_trend_label(1)\n",
    "stock.proc_data.head()"
   ]
  },
  {
   "cell_type": "code",
   "execution_count": 64,
   "metadata": {},
   "outputs": [],
   "source": [
    "stock.create_train_test()"
   ]
  },
  {
   "cell_type": "code",
   "execution_count": 48,
   "metadata": {},
   "outputs": [],
   "source": [
    "import xgboost as xgb"
   ]
  },
  {
   "cell_type": "code",
   "execution_count": 65,
   "metadata": {},
   "outputs": [
    {
     "name": "stderr",
     "output_type": "stream",
     "text": [
      "C:\\Users\\michael\\Anaconda3\\envs\\py36\\lib\\site-packages\\xgboost\\core.py:587: FutureWarning: Series.base is deprecated and will be removed in a future version\n",
      "  if getattr(data, 'base', None) is not None and \\\n",
      "C:\\Users\\michael\\Anaconda3\\envs\\py36\\lib\\site-packages\\xgboost\\core.py:588: FutureWarning: Series.base is deprecated and will be removed in a future version\n",
      "  data.base is not None and isinstance(data, np.ndarray) \\\n"
     ]
    },
    {
     "name": "stdout",
     "output_type": "stream",
     "text": [
      "[10:56:29] WARNING: C:/Jenkins/workspace/xgboost-win64_release_0.90/src/objective/regression_obj.cu:152: reg:linear is now deprecated in favor of reg:squarederror.\n"
     ]
    },
    {
     "data": {
      "text/plain": [
       "XGBRegressor(base_score=0.5, booster='gbtree', colsample_bylevel=1,\n",
       "       colsample_bynode=1, colsample_bytree=1, gamma=0,\n",
       "       importance_type='gain', learning_rate=0.1, max_delta_step=0,\n",
       "       max_depth=3, min_child_weight=1, missing=None, n_estimators=1000,\n",
       "       n_jobs=-1, nthread=None, objective='reg:linear', random_state=0,\n",
       "       reg_alpha=0, reg_lambda=1, scale_pos_weight=1, seed=None,\n",
       "       silent=None, subsample=1, verbosity=1)"
      ]
     },
     "execution_count": 65,
     "metadata": {},
     "output_type": "execute_result"
    }
   ],
   "source": [
    "xgb_reg = xgb.XGBRegressor(n_estimators=1000, n_jobs=-1)\n",
    "xgb_reg.fit(stock.data_xtrain, stock.data_ytrain, verbose=2)"
   ]
  },
  {
   "cell_type": "code",
   "execution_count": 66,
   "metadata": {},
   "outputs": [
    {
     "data": {
      "text/plain": [
       "1.1516041799947643"
      ]
     },
     "execution_count": 66,
     "metadata": {},
     "output_type": "execute_result"
    }
   ],
   "source": [
    "preds = xgb_reg.predict(stock.data_xtest)\n",
    "mean_absolute_error(preds, stock.data_ytest)"
   ]
  },
  {
   "cell_type": "code",
   "execution_count": 54,
   "metadata": {},
   "outputs": [],
   "source": [
    "xg_reg = xgb.XGBClassifier(n_estimators=1000, n_jobs=-1)\n"
   ]
  },
  {
   "cell_type": "code",
   "execution_count": 55,
   "metadata": {},
   "outputs": [
    {
     "data": {
      "text/plain": [
       "XGBClassifier(base_score=0.5, booster='gbtree', colsample_bylevel=1,\n",
       "       colsample_bynode=1, colsample_bytree=1, gamma=0, learning_rate=0.1,\n",
       "       max_delta_step=0, max_depth=3, min_child_weight=1, missing=None,\n",
       "       n_estimators=1000, n_jobs=-1, nthread=None,\n",
       "       objective='binary:logistic', random_state=0, reg_alpha=0,\n",
       "       reg_lambda=1, scale_pos_weight=1, seed=None, silent=None,\n",
       "       subsample=1, verbosity=1)"
      ]
     },
     "execution_count": 55,
     "metadata": {},
     "output_type": "execute_result"
    }
   ],
   "source": [
    "xg_reg.fit(stock.data_xtrain, stock.data_ytrain, verbose=1)"
   ]
  },
  {
   "cell_type": "code",
   "execution_count": 57,
   "metadata": {},
   "outputs": [],
   "source": [
    "from sklearn.metrics import accuracy_score"
   ]
  },
  {
   "cell_type": "code",
   "execution_count": 58,
   "metadata": {},
   "outputs": [
    {
     "data": {
      "text/plain": [
       "0.4967793880837359"
      ]
     },
     "execution_count": 58,
     "metadata": {},
     "output_type": "execute_result"
    }
   ],
   "source": [
    "preds = xg_reg.predict(stock.data_xtest)\n",
    "accuracy_score(preds, stock.data_ytest)"
   ]
  },
  {
   "cell_type": "code",
   "execution_count": null,
   "metadata": {},
   "outputs": [],
   "source": []
  }
 ],
 "metadata": {
  "kernelspec": {
   "display_name": "py36 keras",
   "language": "python",
   "name": "py36"
  },
  "language_info": {
   "codemirror_mode": {
    "name": "ipython",
    "version": 3
   },
   "file_extension": ".py",
   "mimetype": "text/x-python",
   "name": "python",
   "nbconvert_exporter": "python",
   "pygments_lexer": "ipython3",
   "version": "3.6.8"
  }
 },
 "nbformat": 4,
 "nbformat_minor": 2
}
